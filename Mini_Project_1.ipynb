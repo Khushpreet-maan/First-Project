{
  "nbformat": 4,
  "nbformat_minor": 0,
  "metadata": {
    "colab": {
      "provenance": [],
      "authorship_tag": "ABX9TyP78iXAUKNZXQKr+yHImJoi",
      "include_colab_link": true
    },
    "kernelspec": {
      "name": "python3",
      "display_name": "Python 3"
    },
    "language_info": {
      "name": "python"
    }
  },
  "cells": [
    {
      "cell_type": "markdown",
      "metadata": {
        "id": "view-in-github",
        "colab_type": "text"
      },
      "source": [
        "<a href=\"https://colab.research.google.com/github/Khushpreet-maan/First-Project/blob/main/Mini_Project_1.ipynb\" target=\"_parent\"><img src=\"https://colab.research.google.com/assets/colab-badge.svg\" alt=\"Open In Colab\"/></a>"
      ]
    },
    {
      "cell_type": "markdown",
      "source": [
        "---\n",
        "### **Q1. L is a list defined as L= [11, 12, 13, 14].**\n",
        "---\n"
      ],
      "metadata": {
        "id": "o7tCknglINq3"
      }
    },
    {
      "cell_type": "markdown",
      "source": [
        "(i) WAP to add 50 and 60 to L.\n",
        "\n"
      ],
      "metadata": {
        "id": "UdJlchwpI6ck"
      }
    },
    {
      "cell_type": "code",
      "source": [
        "L = [11, 12, 13, 14]\n",
        "L.append(50)\n",
        "L.append(60)\n",
        "print(\" After adding 50 and 60:\", L)"
      ],
      "metadata": {
        "colab": {
          "base_uri": "https://localhost:8080/"
        },
        "id": "gXrDMtlCIp0h",
        "outputId": "443a9c2d-5597-4dfa-bdd8-9738d38aa2f8"
      },
      "execution_count": 5,
      "outputs": [
        {
          "output_type": "stream",
          "name": "stdout",
          "text": [
            " After adding 50 and 60: [11, 12, 13, 14, 50, 60]\n"
          ]
        }
      ]
    },
    {
      "cell_type": "markdown",
      "source": [
        "(ii) WAP to remove 11 and 13 from L."
      ],
      "metadata": {
        "id": "7HRtZtgxI7qK"
      }
    },
    {
      "cell_type": "code",
      "source": [
        "L= [11, 12, 13, 14]\n",
        "L.remove(11)\n",
        "L.remove(13)\n",
        "print(\"After removing 11 and 13:\", L)\n"
      ],
      "metadata": {
        "colab": {
          "base_uri": "https://localhost:8080/"
        },
        "id": "1yulFMwbLBYQ",
        "outputId": "672a912f-43df-438c-e7d8-05a3b7025e2d"
      },
      "execution_count": 6,
      "outputs": [
        {
          "output_type": "stream",
          "name": "stdout",
          "text": [
            "After removing 11 and 13: [12, 14]\n"
          ]
        }
      ]
    },
    {
      "cell_type": "markdown",
      "source": [
        "(iii) WAP to sort L in ascending order."
      ],
      "metadata": {
        "id": "RWdywqUeLnvn"
      }
    },
    {
      "cell_type": "code",
      "source": [
        "L= [11, 12, 13, 14]\n",
        "L.sort()\n",
        "print(\" Sorted in ascending order:\", L)\n"
      ],
      "metadata": {
        "colab": {
          "base_uri": "https://localhost:8080/"
        },
        "id": "m8QHmYHPL2te",
        "outputId": "bd343079-6809-43e9-fe5a-405d65cc8fc7"
      },
      "execution_count": 7,
      "outputs": [
        {
          "output_type": "stream",
          "name": "stdout",
          "text": [
            " Sorted in ascending order: [11, 12, 13, 14]\n"
          ]
        }
      ]
    },
    {
      "cell_type": "markdown",
      "source": [
        "(iv) WAP to sort L in descending order."
      ],
      "metadata": {
        "id": "55LWmq5oMNVj"
      }
    },
    {
      "cell_type": "code",
      "source": [
        "L= [11, 12, 13, 14]\n",
        "L.sort(reverse=True)\n",
        "print(\" Sorted in descending order:\", L)"
      ],
      "metadata": {
        "colab": {
          "base_uri": "https://localhost:8080/"
        },
        "id": "z-3SlY4sMOQ6",
        "outputId": "da33ce43-bfd0-4e41-f6f3-a0b71de60157"
      },
      "execution_count": 8,
      "outputs": [
        {
          "output_type": "stream",
          "name": "stdout",
          "text": [
            " Sorted in descending order: [14, 13, 12, 11]\n"
          ]
        }
      ]
    },
    {
      "cell_type": "markdown",
      "source": [
        "(v) WAP to search for 13 in L."
      ],
      "metadata": {
        "id": "Eo343mpFMO0T"
      }
    },
    {
      "cell_type": "code",
      "source": [
        "L= [11, 12, 13, 14]\n",
        "print(\" 13 is in L?\" , 13 in L)"
      ],
      "metadata": {
        "colab": {
          "base_uri": "https://localhost:8080/"
        },
        "id": "7LpO8i9HMPoZ",
        "outputId": "52f65f6b-7ad6-4932-c9db-9e07be5ade7e"
      },
      "execution_count": 9,
      "outputs": [
        {
          "output_type": "stream",
          "name": "stdout",
          "text": [
            " 13 is in L? True\n"
          ]
        }
      ]
    },
    {
      "cell_type": "markdown",
      "source": [
        "(vi) WAP to count the number of elements present in L."
      ],
      "metadata": {
        "id": "i1sozkOXMQVK"
      }
    },
    {
      "cell_type": "code",
      "source": [
        "L= [11, 12, 13, 14]\n",
        "print(\"Number of elements in L:\", len(L))\n"
      ],
      "metadata": {
        "colab": {
          "base_uri": "https://localhost:8080/"
        },
        "id": "Uzm6RuPnMSlJ",
        "outputId": "f23677ca-c995-4037-e78f-5ffd6f2603df"
      },
      "execution_count": 10,
      "outputs": [
        {
          "output_type": "stream",
          "name": "stdout",
          "text": [
            "Number of elements in L: 4\n"
          ]
        }
      ]
    },
    {
      "cell_type": "markdown",
      "source": [
        "(vii) WAP to sum all the elements in L."
      ],
      "metadata": {
        "id": "T2Zz_CzMMTFb"
      }
    },
    {
      "cell_type": "code",
      "source": [
        "L= [11, 12, 13, 14]\n",
        "print(\"Sum of all elements:\", sum(L))"
      ],
      "metadata": {
        "colab": {
          "base_uri": "https://localhost:8080/"
        },
        "id": "MOu_lpFgMT1W",
        "outputId": "be076336-622d-4dda-d98f-cca866fd9449"
      },
      "execution_count": 11,
      "outputs": [
        {
          "output_type": "stream",
          "name": "stdout",
          "text": [
            "Sum of all elements: 50\n"
          ]
        }
      ]
    },
    {
      "cell_type": "markdown",
      "source": [
        "(viii) WAP to sum all ODD numbers in L."
      ],
      "metadata": {
        "id": "RO1TA8VsMUeu"
      }
    },
    {
      "cell_type": "code",
      "source": [
        "L= [11, 12, 13, 14]\n",
        "odd_sum = sum(x for x in L if x % 2 != 0)\n",
        "print(\"Sum of odd numbers:\", odd_sum)\n"
      ],
      "metadata": {
        "colab": {
          "base_uri": "https://localhost:8080/"
        },
        "id": "cDSuTyHrMVGk",
        "outputId": "4e27b070-68e5-4938-d99e-7ae78a176fc2"
      },
      "execution_count": 12,
      "outputs": [
        {
          "output_type": "stream",
          "name": "stdout",
          "text": [
            "Sum of odd numbers: 24\n"
          ]
        }
      ]
    },
    {
      "cell_type": "markdown",
      "source": [
        "(ix) WAP to sum all EVEN numbers in L."
      ],
      "metadata": {
        "id": "AdJ4oqMxNr8F"
      }
    },
    {
      "cell_type": "code",
      "source": [
        "L= [11, 12, 13, 14]\n",
        "even_sum = sum(x for x in L if x % 2 == 0)\n",
        "print(\" Sum of even numbers:\", even_sum)"
      ],
      "metadata": {
        "colab": {
          "base_uri": "https://localhost:8080/"
        },
        "id": "HRygdMutNsjI",
        "outputId": "53a6ed35-6bc3-4044-bf88-41a275a7f900"
      },
      "execution_count": 13,
      "outputs": [
        {
          "output_type": "stream",
          "name": "stdout",
          "text": [
            " Sum of even numbers: 26\n"
          ]
        }
      ]
    },
    {
      "cell_type": "markdown",
      "source": [
        "(x) WAP to sum all PRIME numbers in L."
      ],
      "metadata": {
        "id": "ZJKIbmbMNtCG"
      }
    },
    {
      "cell_type": "code",
      "source": [
        "L= [11, 12, 13, 14]\n",
        "def is_prime(n):\n",
        "    if n < 2:\n",
        "        return False\n",
        "    for i in range(2, int(n**0.5)+1):\n",
        "        if n % i == 0:\n",
        "            return False\n",
        "    return True\n",
        "\n",
        "prime_sum = sum(x for x in L if is_prime(x))\n",
        "print(\"Sum of prime numbers:\", prime_sum)"
      ],
      "metadata": {
        "colab": {
          "base_uri": "https://localhost:8080/"
        },
        "id": "Tfc3EGU6Ntqd",
        "outputId": "e133e205-945d-4815-8c3d-752fd43e066d"
      },
      "execution_count": 16,
      "outputs": [
        {
          "output_type": "stream",
          "name": "stdout",
          "text": [
            "Sum of prime numbers: 24\n"
          ]
        }
      ]
    },
    {
      "cell_type": "markdown",
      "source": [
        "(xi) WAP to clear all the elements in L."
      ],
      "metadata": {
        "id": "zv5hDzpZNubw"
      }
    },
    {
      "cell_type": "code",
      "source": [
        "L= [11, 12, 13, 14]\n",
        "L.clear()\n",
        "print(\"After clearing L:\", L)"
      ],
      "metadata": {
        "colab": {
          "base_uri": "https://localhost:8080/"
        },
        "id": "xr9reYVjNvMn",
        "outputId": "f32af045-8e0c-4a96-a599-934be53232d1"
      },
      "execution_count": 18,
      "outputs": [
        {
          "output_type": "stream",
          "name": "stdout",
          "text": [
            "After clearing L: []\n"
          ]
        }
      ]
    },
    {
      "cell_type": "markdown",
      "source": [
        "(xii) WAP to delete L."
      ],
      "metadata": {
        "id": "XMHyNGvqNwNc"
      }
    },
    {
      "cell_type": "code",
      "source": [
        "L= [11, 12, 13, 14]\n",
        "del L\n",
        "print(\" L deleted.\")"
      ],
      "metadata": {
        "colab": {
          "base_uri": "https://localhost:8080/"
        },
        "id": "Wn-4raY6NwqG",
        "outputId": "1a1bd849-83f8-4a28-c20b-424c28810943"
      },
      "execution_count": 19,
      "outputs": [
        {
          "output_type": "stream",
          "name": "stdout",
          "text": [
            " L deleted.\n"
          ]
        }
      ]
    },
    {
      "cell_type": "markdown",
      "source": [
        "---\n",
        "### **Q2. D is a dictionary defined as D= {1:5.6, 2:7.8, 3:6.6, 4:8.7, 5:7.7}.**\n",
        "---"
      ],
      "metadata": {
        "id": "b2Vj6mrONxGt"
      }
    },
    {
      "cell_type": "markdown",
      "source": [
        "(i) WAP to add new entry in D; key=8 and value is 8.8 ."
      ],
      "metadata": {
        "id": "OqsvhsfKP37L"
      }
    },
    {
      "cell_type": "code",
      "source": [
        "D= {1:5.6, 2:7.8, 3:6.6, 4:8.7, 5:7.7}\n",
        "D[8] = 8.8\n",
        "print(\" After adding key=8, value=8.8:\", D)\n"
      ],
      "metadata": {
        "colab": {
          "base_uri": "https://localhost:8080/"
        },
        "id": "3jVZsUmsNxv3",
        "outputId": "2921436b-14e4-45c5-d7ae-cd294b25a473"
      },
      "execution_count": 20,
      "outputs": [
        {
          "output_type": "stream",
          "name": "stdout",
          "text": [
            " After adding key=8, value=8.8: {1: 5.6, 2: 7.8, 3: 6.6, 4: 8.7, 5: 7.7, 8: 8.8}\n"
          ]
        }
      ]
    },
    {
      "cell_type": "markdown",
      "source": [
        "(ii) WAP to remove key=2.\n",
        "\n"
      ],
      "metadata": {
        "id": "7O3ouCA9P-Fy"
      }
    },
    {
      "cell_type": "code",
      "source": [
        "D= {1:5.6, 2:7.8, 3:6.6, 4:8.7, 5:7.7}\n",
        "D.pop(2)\n",
        "print(\" After removing key=2:\", D)\n",
        "\n"
      ],
      "metadata": {
        "colab": {
          "base_uri": "https://localhost:8080/"
        },
        "id": "36OVeJJQP-lC",
        "outputId": "02f9e2fc-e071-4a74-f568-6112a71d1d98"
      },
      "execution_count": 21,
      "outputs": [
        {
          "output_type": "stream",
          "name": "stdout",
          "text": [
            " After removing key=2: {1: 5.6, 3: 6.6, 4: 8.7, 5: 7.7}\n"
          ]
        }
      ]
    },
    {
      "cell_type": "markdown",
      "source": [
        "(iii) WAP to check weather 6 key is present in D."
      ],
      "metadata": {
        "id": "KxRD1zhfP-7a"
      }
    },
    {
      "cell_type": "code",
      "source": [
        " D= {1:5.6, 2:7.8, 3:6.6, 4:8.7, 5:7.7}\n",
        " print(\"Is key=6 present?\", 6 in D)"
      ],
      "metadata": {
        "colab": {
          "base_uri": "https://localhost:8080/"
        },
        "id": "_fJG3R07P_Y6",
        "outputId": "b6cb6372-fa97-469f-fad7-7d8a2958b7f8"
      },
      "execution_count": 22,
      "outputs": [
        {
          "output_type": "stream",
          "name": "stdout",
          "text": [
            "Is key=6 present? False\n"
          ]
        }
      ]
    },
    {
      "cell_type": "markdown",
      "source": [
        "(iv) WAP to count the number of elements present in D."
      ],
      "metadata": {
        "id": "pFQYoRquQAB-"
      }
    },
    {
      "cell_type": "code",
      "source": [
        " D= {1:5.6, 2:7.8, 3:6.6, 4:8.7, 5:7.7}\n",
        " print(\"Number of elements in D:\", len(D))"
      ],
      "metadata": {
        "colab": {
          "base_uri": "https://localhost:8080/"
        },
        "id": "YhYUT2XkQAck",
        "outputId": "e77e6452-9381-4201-a16e-0ddd2c8159eb"
      },
      "execution_count": 23,
      "outputs": [
        {
          "output_type": "stream",
          "name": "stdout",
          "text": [
            "Number of elements in D: 5\n"
          ]
        }
      ]
    },
    {
      "cell_type": "markdown",
      "source": [
        "(v) WAP to add all the values present D."
      ],
      "metadata": {
        "id": "fDcKmPngQA5c"
      }
    },
    {
      "cell_type": "code",
      "source": [
        " D= {1:5.6, 2:7.8, 3:6.6, 4:8.7, 5:7.7}\n",
        " print(\" Sum of all values in D:\", sum(D.values()))"
      ],
      "metadata": {
        "colab": {
          "base_uri": "https://localhost:8080/"
        },
        "id": "7nwZ4oiqQBUi",
        "outputId": "d3868fb8-7471-4fe7-d59c-326988920790"
      },
      "execution_count": 24,
      "outputs": [
        {
          "output_type": "stream",
          "name": "stdout",
          "text": [
            " Sum of all values in D: 36.4\n"
          ]
        }
      ]
    },
    {
      "cell_type": "markdown",
      "source": [
        "(vi) WAP to update the value of 3 to 7.1."
      ],
      "metadata": {
        "id": "xL1qO93WQlI-"
      }
    },
    {
      "cell_type": "code",
      "source": [
        "D= {1:5.6, 2:7.8, 3:6.6, 4:8.7, 5:7.7}\n",
        "D[3] = 7.1\n",
        "print(\"( After updating key=3 to 7.1:\", D)\n"
      ],
      "metadata": {
        "colab": {
          "base_uri": "https://localhost:8080/"
        },
        "id": "gTY2k5uuQlpN",
        "outputId": "7a749d01-4498-421a-88fb-b27db516cdc6"
      },
      "execution_count": 25,
      "outputs": [
        {
          "output_type": "stream",
          "name": "stdout",
          "text": [
            "( After updating key=3 to 7.1: {1: 5.6, 2: 7.8, 3: 7.1, 4: 8.7, 5: 7.7}\n"
          ]
        }
      ]
    },
    {
      "cell_type": "markdown",
      "source": [
        "(vii) WAP to clear the dictionary.\n"
      ],
      "metadata": {
        "id": "ub7S-9L1QmCd"
      }
    },
    {
      "cell_type": "code",
      "source": [
        "D= {1:5.6, 2:7.8, 3:6.6, 4:8.7, 5:7.7}\n",
        "D.clear()\n",
        "print(\"After clearing dictionary:\", D)"
      ],
      "metadata": {
        "colab": {
          "base_uri": "https://localhost:8080/"
        },
        "id": "MdLF9RmGQmiP",
        "outputId": "ae96a1eb-caa7-4e71-aea6-cfc6ada928c8"
      },
      "execution_count": 26,
      "outputs": [
        {
          "output_type": "stream",
          "name": "stdout",
          "text": [
            "After clearing dictionary: {}\n"
          ]
        }
      ]
    },
    {
      "cell_type": "markdown",
      "source": [
        "---\n",
        "### **Q3. S1 is a set defined as S1= [10, 20, 30, 40, 50, 60].**\n",
        " ### **S2 is a set defined as S2= [40, 50, 60, 70, 80, 90].**\n",
        " ---\n"
      ],
      "metadata": {
        "id": "IIFngbisQnGL"
      }
    },
    {
      "cell_type": "markdown",
      "source": [
        "(i) WAP to add 55 and 66 in Set S1."
      ],
      "metadata": {
        "id": "esQZOfAlScPz"
      }
    },
    {
      "cell_type": "code",
      "source": [
        "S1= [10, 20, 30, 40, 50, 60]\n",
        "S2= [40, 50, 60, 70, 80, 90]\n",
        "S1.append(55)\n",
        "S1.append(66)\n",
        "print(\" After adding 55 and 66 to S1:\", S1)\n"
      ],
      "metadata": {
        "colab": {
          "base_uri": "https://localhost:8080/"
        },
        "id": "jtA58hqZScnQ",
        "outputId": "24e67b43-74bf-4a8a-ee15-9be79df2617d"
      },
      "execution_count": 32,
      "outputs": [
        {
          "output_type": "stream",
          "name": "stdout",
          "text": [
            " After adding 55 and 66 to S1: [10, 20, 30, 40, 50, 60, 55, 66]\n"
          ]
        }
      ]
    },
    {
      "cell_type": "markdown",
      "source": [
        " (ii) WAP to remove 10 and 30 from Set S1."
      ],
      "metadata": {
        "id": "YMd94-dxSdM_"
      }
    },
    {
      "cell_type": "code",
      "source": [
        "S1= [10, 20, 30, 40, 50, 60]\n",
        "S2= [40, 50, 60, 70, 80, 90]\n",
        "S1.remove(10)\n",
        "S1.remove(30)\n",
        "print(\" After removing 10 and 30 from S1:\", S1)"
      ],
      "metadata": {
        "colab": {
          "base_uri": "https://localhost:8080/"
        },
        "id": "DeXrv5D1SywV",
        "outputId": "69f7f210-4bf5-4a82-ddab-0669d1a39569"
      },
      "execution_count": 34,
      "outputs": [
        {
          "output_type": "stream",
          "name": "stdout",
          "text": [
            " After removing 10 and 30 from S1: [20, 40, 50, 60]\n"
          ]
        }
      ]
    },
    {
      "cell_type": "markdown",
      "source": [
        " (iii) WAP to check whether 40 is present in S1."
      ],
      "metadata": {
        "id": "FoCx2tZXSzOB"
      }
    },
    {
      "cell_type": "code",
      "source": [
        "S1= [10, 20, 30, 40, 50, 60]\n",
        "S2= [40, 50, 60, 70, 80, 90]\n",
        "print(\" Is 40 present in S1?\", 40 in S1)"
      ],
      "metadata": {
        "colab": {
          "base_uri": "https://localhost:8080/"
        },
        "id": "8qBXu4NkSzrs",
        "outputId": "4e1f79d3-5381-4ee2-cca9-334f0ca5744f"
      },
      "execution_count": 35,
      "outputs": [
        {
          "output_type": "stream",
          "name": "stdout",
          "text": [
            " Is 40 present in S1? True\n"
          ]
        }
      ]
    },
    {
      "cell_type": "markdown",
      "source": [
        " (iv) WAP to find the union between S1 and S2."
      ],
      "metadata": {
        "id": "W7kG1-y1S0HD"
      }
    },
    {
      "cell_type": "code",
      "source": [
        "set1 = set(S1)\n",
        "set2 = set(S2)\n",
        "union_set = set1.union(set2)\n",
        "print(\"Union of set1 and set2:\", union_set)\n"
      ],
      "metadata": {
        "colab": {
          "base_uri": "https://localhost:8080/"
        },
        "id": "op181AUmS01p",
        "outputId": "c524e421-1eac-4c47-c4c2-f77f2af906b7"
      },
      "execution_count": 5,
      "outputs": [
        {
          "output_type": "stream",
          "name": "stdout",
          "text": [
            "Union of set1 and set2: {70, 40, 10, 80, 50, 20, 90, 60, 30}\n"
          ]
        }
      ]
    },
    {
      "cell_type": "markdown",
      "source": [
        "(v) WAP to find the intersection between S1 and S2."
      ],
      "metadata": {
        "id": "HpE59C5zS1P7"
      }
    },
    {
      "cell_type": "code",
      "source": [
        "intersection_set = set1.intersection(set2)\n",
        "print(\"Intersection of set1 and set2:\", intersection_set)\n"
      ],
      "metadata": {
        "colab": {
          "base_uri": "https://localhost:8080/"
        },
        "id": "iHTcRuTMS10I",
        "outputId": "0e2363eb-aa3f-4936-dfc6-dcfd4ceb9cd2"
      },
      "execution_count": 7,
      "outputs": [
        {
          "output_type": "stream",
          "name": "stdout",
          "text": [
            "Intersection of set1 and set2: {40, 50, 60}\n"
          ]
        }
      ]
    },
    {
      "cell_type": "markdown",
      "source": [
        "(vi) WAP to find the S1 - S2.\n",
        "\n"
      ],
      "metadata": {
        "id": "zNiateS8TOlb"
      }
    },
    {
      "cell_type": "code",
      "source": [
        "difference_set = set1.difference(set2)\n",
        "print(\"set1 - set2:\", difference_set)"
      ],
      "metadata": {
        "colab": {
          "base_uri": "https://localhost:8080/"
        },
        "id": "Yew5lwWzTPBj",
        "outputId": "fdfbc065-72cd-4f8a-d9b6-425548a18778"
      },
      "execution_count": 8,
      "outputs": [
        {
          "output_type": "stream",
          "name": "stdout",
          "text": [
            "set1 - set2: {10, 20, 30}\n"
          ]
        }
      ]
    },
    {
      "cell_type": "markdown",
      "source": [
        "---\n",
        "### **Q4. Write the following program.**\n",
        "---\n"
      ],
      "metadata": {
        "id": "9qWrnjTMWeym"
      }
    },
    {
      "cell_type": "markdown",
      "source": [
        " (i) WAP to print 100 random strings whose length between 6 and 8.:"
      ],
      "metadata": {
        "id": "aoFqeClnWhxL"
      }
    },
    {
      "cell_type": "code",
      "source": [
        "import random\n",
        "import string\n",
        "\n",
        "for _ in range(100):\n",
        "    length = random.randint(6, 8)  # Random length between 6 and 8\n",
        "    rand_str = ''.join(random.choices(string.ascii_letters + string.digits, k=length))\n",
        "    print(rand_str)"
      ],
      "metadata": {
        "colab": {
          "base_uri": "https://localhost:8080/"
        },
        "id": "VveBpAKdWiKu",
        "outputId": "895050e1-6ff0-487e-9298-e04c7c4c4321"
      },
      "execution_count": 9,
      "outputs": [
        {
          "output_type": "stream",
          "name": "stdout",
          "text": [
            "oYXDGZT\n",
            "VgY6Dh5\n",
            "64NDG6\n",
            "cKwRqbc\n",
            "CTwnly\n",
            "U1PkXeqo\n",
            "dFxLZav\n",
            "YwBvJmg\n",
            "GytfKoeU\n",
            "LeFNKLa\n",
            "wVmx02j\n",
            "CvUzYK9H\n",
            "T1fqHmN\n",
            "XfPv7h5\n",
            "pFYsMF\n",
            "7j1Vg0D\n",
            "MO26Tf\n",
            "GbApim\n",
            "yb3Lhi\n",
            "BMQzGlic\n",
            "4Qc67EF\n",
            "qVrknfD\n",
            "zi7Qyd\n",
            "JEkIg48\n",
            "DKLNjr\n",
            "KfJBHbNe\n",
            "CjaAd2\n",
            "7GOZMt6b\n",
            "7dou2j\n",
            "pONIEv\n",
            "8mp5gF5q\n",
            "WocMG85\n",
            "GNJdE7k\n",
            "gewHXW\n",
            "zpJ8KL\n",
            "vnfKU7\n",
            "oOV3JQb\n",
            "vguoX5a\n",
            "VbqPNHQ\n",
            "VIl1uik\n",
            "gODzSj\n",
            "6telQa\n",
            "ALY3ABO\n",
            "igqX5QTB\n",
            "AbSXMaZP\n",
            "PUzlzMk9\n",
            "ZNR3dbk\n",
            "5zVOpLcu\n",
            "VpFAEcp\n",
            "dG3dlKQU\n",
            "Oyj8tsZX\n",
            "yobeJXui\n",
            "CK4kOV\n",
            "NqcTHrM\n",
            "xWoSqc\n",
            "dyr891\n",
            "mnSqc1J\n",
            "mxs6LOS\n",
            "CE9be0\n",
            "gDotTsmw\n",
            "tEtRzQ\n",
            "aZDD2x1R\n",
            "PSRjXUva\n",
            "QkrsviAy\n",
            "wtSbSsv\n",
            "cWIQ0Bz\n",
            "3Te12u\n",
            "hOS7h1\n",
            "EtOMuvNA\n",
            "F5ZtpKH\n",
            "V5J199sd\n",
            "S45Hhk\n",
            "5HObmNTV\n",
            "cgvKb4\n",
            "08SWS7\n",
            "bNG9uyfX\n",
            "kcGaKTe\n",
            "XLVUtut\n",
            "RnR6p1\n",
            "xg2LkP\n",
            "TnyPmU\n",
            "jcAE6e\n",
            "DALNeL3f\n",
            "dVktNBH\n",
            "xxcGv68\n",
            "DZBexUJ\n",
            "4hsKpH\n",
            "wqhu08e\n",
            "5icb1Vb\n",
            "VADKji\n",
            "M691BS\n",
            "WxdzGb\n",
            "tzPgVcpr\n",
            "ToHONrr\n",
            "OcyPDfSU\n",
            "yDmqEAS\n",
            "OnLwgZ\n",
            "u4WGYLz\n",
            "S0xLBs\n",
            "VJKRKKDS\n"
          ]
        }
      ]
    },
    {
      "cell_type": "markdown",
      "source": [
        " (ii) WAP to print all prime numbers between 600 and 800."
      ],
      "metadata": {
        "id": "tjrXK11LWihm"
      }
    },
    {
      "cell_type": "code",
      "source": [
        "def is_prime(n):\n",
        "    if n < 2:\n",
        "        return False\n",
        "    for i in range(2, int(n**0.5) + 1):\n",
        "        if n % i == 0:\n",
        "            return False\n",
        "    return True\n",
        "\n",
        "for num in range(600, 801):\n",
        "    if is_prime(num):\n",
        "        print(num, end=' ')"
      ],
      "metadata": {
        "colab": {
          "base_uri": "https://localhost:8080/"
        },
        "id": "YkR9CPOzWi9M",
        "outputId": "83cfee79-5c93-47c7-971a-69dbaef6a1c4"
      },
      "execution_count": 10,
      "outputs": [
        {
          "output_type": "stream",
          "name": "stdout",
          "text": [
            "601 607 613 617 619 631 641 643 647 653 659 661 673 677 683 691 701 709 719 727 733 739 743 751 757 761 769 773 787 797 "
          ]
        }
      ]
    },
    {
      "cell_type": "markdown",
      "source": [
        "(iii) WAP to print all numbers between 100 and 1000 that are divisible by 7 and 9."
      ],
      "metadata": {
        "id": "cv90RFs_WjXh"
      }
    },
    {
      "cell_type": "code",
      "source": [
        "for num in range(100, 1001):\n",
        "    if num % 63 == 0:\n",
        "        print(num, end=' ')"
      ],
      "metadata": {
        "colab": {
          "base_uri": "https://localhost:8080/"
        },
        "id": "BvCbDvDUWj1a",
        "outputId": "0be214ac-37b9-401e-9a62-f306b0e6b911"
      },
      "execution_count": 11,
      "outputs": [
        {
          "output_type": "stream",
          "name": "stdout",
          "text": [
            "126 189 252 315 378 441 504 567 630 693 756 819 882 945 "
          ]
        }
      ]
    },
    {
      "cell_type": "markdown",
      "source": [
        " ---\n",
        " ### **Q5. WAP to create two lists of 10 random numbers between 10 and 30; Find**\n",
        " ---"
      ],
      "metadata": {
        "id": "05M4BlovWkQg"
      }
    },
    {
      "cell_type": "markdown",
      "source": [
        "(i) Common numbers in the two lists"
      ],
      "metadata": {
        "id": "1CkwCphvXAUb"
      }
    },
    {
      "cell_type": "code",
      "source": [
        "import random as r\n",
        "list1 = [r.randint(10, 30) for _ in range(10)]\n",
        "list2 = [r.randint(10, 30) for _ in range(10)]\n",
        "\n",
        "print(\"List 1:\", list1)\n",
        "print(\"List 2:\", list2)\n",
        "common = list(set(list1) & set(list2))\n",
        "print(\" Common numbers:\", common)"
      ],
      "metadata": {
        "colab": {
          "base_uri": "https://localhost:8080/"
        },
        "id": "syXVnjw5WkuM",
        "outputId": "92e27156-b677-4a19-bb4e-6f3ca9940896"
      },
      "execution_count": 16,
      "outputs": [
        {
          "output_type": "stream",
          "name": "stdout",
          "text": [
            "List 1: [12, 22, 24, 29, 14, 19, 23, 29, 16, 28]\n",
            "List 2: [17, 25, 13, 17, 11, 26, 27, 23, 25, 22]\n",
            " Common numbers: [22, 23]\n"
          ]
        }
      ]
    },
    {
      "cell_type": "markdown",
      "source": [
        " (ii) Unique numbers in both the list"
      ],
      "metadata": {
        "id": "4dTLR2gWWlVw"
      }
    },
    {
      "cell_type": "code",
      "source": [
        "unique = list(set(list1) ^ set(list2))\n",
        "print(\"Unique numbers in both lists:\", unique)"
      ],
      "metadata": {
        "colab": {
          "base_uri": "https://localhost:8080/"
        },
        "id": "fj0JeG-FWlwV",
        "outputId": "7e7a8012-ef03-45ea-e0e2-a90652786f1b"
      },
      "execution_count": 13,
      "outputs": [
        {
          "output_type": "stream",
          "name": "stdout",
          "text": [
            "(ii) Unique numbers in both lists: [13, 16, 18, 21, 23, 28, 30]\n"
          ]
        }
      ]
    },
    {
      "cell_type": "markdown",
      "source": [
        "(iii) Minimum in both the list"
      ],
      "metadata": {
        "id": "utxGmLIoWmHT"
      }
    },
    {
      "cell_type": "code",
      "source": [
        "min1 = min(list1)\n",
        "min2 = min(list2)\n",
        "print(\"Minimum in List 1:\", min1)\n",
        "print(\" Minimum in List 2:\", min2)"
      ],
      "metadata": {
        "colab": {
          "base_uri": "https://localhost:8080/"
        },
        "id": "BkvpDdHDWmtw",
        "outputId": "829b11d6-057c-433c-bc84-fec6e7ecaf6b"
      },
      "execution_count": 14,
      "outputs": [
        {
          "output_type": "stream",
          "name": "stdout",
          "text": [
            "Minimum in List 1: 18\n",
            " Minimum in List 2: 13\n"
          ]
        }
      ]
    },
    {
      "cell_type": "markdown",
      "source": [
        "(iv) Maximum in both the list"
      ],
      "metadata": {
        "id": "Gi-R83f7WnIY"
      }
    },
    {
      "cell_type": "code",
      "source": [
        "max1 = max(list1)\n",
        "max2 = max(list2)\n",
        "print(\" Maximum in List 1:\", max1)\n",
        "print(\" Maximum in List 2:\", max2)"
      ],
      "metadata": {
        "colab": {
          "base_uri": "https://localhost:8080/"
        },
        "id": "HSwZw9eNWnnD",
        "outputId": "191a37aa-5f23-4259-a889-07da500799c6"
      },
      "execution_count": 15,
      "outputs": [
        {
          "output_type": "stream",
          "name": "stdout",
          "text": [
            " Maximum in List 1: 30\n",
            " Maximum in List 2: 29\n"
          ]
        }
      ]
    },
    {
      "cell_type": "markdown",
      "source": [
        " (v) Sum of both the lists"
      ],
      "metadata": {
        "id": "M0Sc8gM7Wn79"
      }
    },
    {
      "cell_type": "code",
      "source": [
        "sum1 = sum(list1)\n",
        "sum2 = sum(list2)\n",
        "print(\" Sum of List 1:\", sum1)\n",
        "print(\" Sum of List 2:\", sum2)\n",
        "print(\" Total Sum:\", sum1 + sum2)"
      ],
      "metadata": {
        "colab": {
          "base_uri": "https://localhost:8080/"
        },
        "id": "pOi_HbHZWog2",
        "outputId": "b2e65e12-d44e-4ae2-830c-93e62834e2f5"
      },
      "execution_count": 17,
      "outputs": [
        {
          "output_type": "stream",
          "name": "stdout",
          "text": [
            " Sum of List 1: 216\n",
            " Sum of List 2: 206\n",
            " Total Sum: 422\n"
          ]
        }
      ]
    },
    {
      "cell_type": "markdown",
      "source": [
        "---\n",
        "### **Q6. WAP to create a list of 100 random numbers between 100 and 900. Count and print the:**\n",
        "---\n",
        "\n"
      ],
      "metadata": {
        "id": "5aobQPtpWpEy"
      }
    },
    {
      "cell_type": "markdown",
      "source": [
        "(i) All odd numbers"
      ],
      "metadata": {
        "id": "Xy0X99QKYAkM"
      }
    },
    {
      "cell_type": "code",
      "source": [
        "import random as r\n",
        "\n",
        "def is_prime(n):\n",
        "    if n < 2:\n",
        "        return False\n",
        "    for i in range(2, int(n**0.5) + 1):\n",
        "        if n % i == 0:\n",
        "            return False\n",
        "    return True\n",
        "\n",
        "numbers = [r.randint(100, 900) for _ in range(100)]\n",
        "odd_numbers = [n for n in numbers if n % 2 != 0]\n",
        "print(\" Odd numbers (\", len(odd_numbers), \"):\", odd_numbers)\n"
      ],
      "metadata": {
        "colab": {
          "base_uri": "https://localhost:8080/"
        },
        "id": "ckSR6K4qWpfm",
        "outputId": "bb0ae949-6387-46e8-ab04-cb34704278c7"
      },
      "execution_count": 21,
      "outputs": [
        {
          "output_type": "stream",
          "name": "stdout",
          "text": [
            " Odd numbers ( 48 ): [333, 171, 849, 343, 461, 787, 453, 653, 835, 149, 225, 755, 131, 825, 547, 445, 131, 145, 199, 841, 853, 493, 507, 529, 187, 573, 607, 735, 285, 639, 263, 689, 223, 135, 633, 233, 229, 827, 473, 259, 681, 353, 211, 169, 209, 475, 521, 249]\n"
          ]
        }
      ]
    },
    {
      "cell_type": "markdown",
      "source": [
        " (ii) All even numbers"
      ],
      "metadata": {
        "id": "3TQBpbMQWp1M"
      }
    },
    {
      "cell_type": "code",
      "source": [
        "even_numbers = [n for n in numbers if n % 2 == 0]\n",
        "print(\"Even numbers (\", len(even_numbers), \"):\", even_numbers)\n"
      ],
      "metadata": {
        "colab": {
          "base_uri": "https://localhost:8080/"
        },
        "id": "8D-7pl02WqUu",
        "outputId": "61b4d146-4c56-40cc-c034-3e828bd0ed20"
      },
      "execution_count": 22,
      "outputs": [
        {
          "output_type": "stream",
          "name": "stdout",
          "text": [
            "Even numbers ( 52 ): [444, 762, 202, 340, 866, 822, 222, 174, 260, 176, 556, 352, 338, 704, 862, 506, 798, 476, 348, 762, 784, 410, 324, 554, 802, 230, 832, 836, 200, 718, 284, 314, 898, 170, 678, 524, 728, 286, 212, 894, 664, 868, 288, 548, 550, 780, 424, 504, 520, 734, 800, 842]\n"
          ]
        }
      ]
    },
    {
      "cell_type": "markdown",
      "source": [
        " (iii) All prime numbers"
      ],
      "metadata": {
        "id": "E6Jc7Nm8Wq8i"
      }
    },
    {
      "cell_type": "code",
      "source": [
        "prime_numbers = [n for n in numbers if is_prime(n)]\n",
        "print(\"Prime numbers (\", len(prime_numbers), \"):\", prime_numbers)"
      ],
      "metadata": {
        "colab": {
          "base_uri": "https://localhost:8080/"
        },
        "id": "etJGFV2HWrXV",
        "outputId": "fdcef800-8863-49f7-d620-ebf9a36b08a6"
      },
      "execution_count": 23,
      "outputs": [
        {
          "output_type": "stream",
          "name": "stdout",
          "text": [
            "Prime numbers ( 18 ): [461, 787, 653, 149, 131, 547, 131, 199, 853, 607, 263, 223, 233, 229, 827, 353, 211, 521]\n"
          ]
        }
      ]
    },
    {
      "cell_type": "markdown",
      "source": [
        " ---\n",
        " ### **Q7. D is a dictionary defined as D={1:\"One\",2:\"Two\",3:\"Three\",4:\"Four\", 5:\"Five\"}. WAP to read all the keys and values from dictionary and write to the file in the given below format.**\n",
        " ### **Key1, Value1**\n",
        "\n",
        "### **Key2, Value2**\n",
        "### **Key3, Value3**\n",
        " ---"
      ],
      "metadata": {
        "id": "Jf5IuUOsWrxH"
      }
    },
    {
      "cell_type": "code",
      "source": [
        "D = {1: \"One\", 2: \"Two\", 3: \"Three\", 4: \"Four\", 5: \"Five\"}\n",
        "\n",
        "with open(\"dictionary_output.txt\", \"w\") as file:\n",
        "    for key, value in D.items():\n",
        "        file.write(f\"Key{key}, Value{key}\\n\")\n",
        "\n",
        "print(\"Data has been written to 'dictionary_output.txt'\")"
      ],
      "metadata": {
        "colab": {
          "base_uri": "https://localhost:8080/"
        },
        "id": "Qw9FLd5dWsOj",
        "outputId": "5047732c-afbf-4230-8f07-f64cdf8d7d58"
      },
      "execution_count": 1,
      "outputs": [
        {
          "output_type": "stream",
          "name": "stdout",
          "text": [
            "Data has been written to 'dictionary_output.txt'\n"
          ]
        }
      ]
    },
    {
      "cell_type": "markdown",
      "source": [
        "---\n",
        "### **Q8. L is a list defined as L={\"One\",\"Two\",\"Three\",\"Four\",\"Five\"}. WAP to count the length of reach element from a list and write to the file in the given below format:**\n",
        "### **One, 3**\n",
        "\n",
        "### **Two, 3**\n",
        "### **Four, 4**\n",
        "---"
      ],
      "metadata": {
        "id": "id7dOEOoCc9i"
      }
    },
    {
      "cell_type": "code",
      "source": [
        "L = [\"One\", \"Two\", \"Three\", \"Four\", \"Five\"]\n",
        "\n",
        "with open(\"length_output.txt\", \"w\") as file:\n",
        "    for item in L:\n",
        "        file.write(f\"{item}, {len(item)}\\n\")\n",
        "\n",
        "print(\"Element lengths have been written to 'length_output.txt'\")"
      ],
      "metadata": {
        "colab": {
          "base_uri": "https://localhost:8080/"
        },
        "id": "wOkntYQJC3Yy",
        "outputId": "8269fd3e-d3f3-4202-a6fc-70ae701bdaa1"
      },
      "execution_count": 2,
      "outputs": [
        {
          "output_type": "stream",
          "name": "stdout",
          "text": [
            "Element lengths have been written to 'length_output.txt'\n"
          ]
        }
      ]
    },
    {
      "cell_type": "markdown",
      "source": [
        "---\n",
        "### **Q9. Write to the file 100 random strings whose length between 10 ad 15.**\n",
        "---"
      ],
      "metadata": {
        "id": "h6_Az2QTC4Cd"
      }
    },
    {
      "cell_type": "code",
      "source": [
        "import random\n",
        "import string\n",
        "\n",
        "with open(\"random_strings.txt\", \"w\") as file:\n",
        "    for _ in range(100):\n",
        "        length = random.randint(10, 15)  # Random length between 10 and 15\n",
        "        rand_str = ''.join(random.choices(string.ascii_letters + string.digits, k=length))\n",
        "        file.write(rand_str + \"\\n\")\n",
        "\n",
        "print(\"100 random strings have been written to 'random_strings.txt'\")"
      ],
      "metadata": {
        "colab": {
          "base_uri": "https://localhost:8080/"
        },
        "id": "ZIIEyDezC49i",
        "outputId": "79f881dd-008b-4668-a9b1-da58ddfb135d"
      },
      "execution_count": 3,
      "outputs": [
        {
          "output_type": "stream",
          "name": "stdout",
          "text": [
            "100 random strings have been written to 'random_strings.txt'\n"
          ]
        }
      ]
    },
    {
      "cell_type": "markdown",
      "source": [
        "---\n",
        "### **Q10. Write to the file all prime numbers between 600 and 800.**\n",
        "---"
      ],
      "metadata": {
        "id": "YPEhet7mD4jJ"
      }
    },
    {
      "cell_type": "code",
      "source": [
        "def is_prime(n):\n",
        "    if n < 2:\n",
        "        return False\n",
        "    for i in range(2, int(n**0.5) + 1):\n",
        "        if n % i == 0:\n",
        "            return False\n",
        "    return True\n",
        "with open(\"prime_600_to_800.txt\", \"w\") as file:\n",
        "    for num in range(600, 801):\n",
        "        if is_prime(num):\n",
        "            file.write(str(num) + \"\\n\")\n",
        "\n",
        "print(\"All prime numbers between 600 and 800 have been written to 'prime_600_to_800.txt'\")"
      ],
      "metadata": {
        "colab": {
          "base_uri": "https://localhost:8080/"
        },
        "id": "UIScMs6PD5J8",
        "outputId": "9d8a62e1-91e4-4faa-c3ec-ddb6b91a77e6"
      },
      "execution_count": 5,
      "outputs": [
        {
          "output_type": "stream",
          "name": "stdout",
          "text": [
            "All prime numbers between 600 and 800 have been written to 'prime_600_to_800.txt'\n"
          ]
        }
      ]
    },
    {
      "cell_type": "markdown",
      "source": [
        "---\n",
        "### **Q11. WAP to calculate the time taken by a program.**\n",
        "---\n",
        "\n"
      ],
      "metadata": {
        "id": "7RIPjhblD5wd"
      }
    },
    {
      "cell_type": "code",
      "source": [
        "import time\n",
        "\n",
        "start_time = time.time()\n",
        "\n",
        "total = 0\n",
        "for i in range(1, 1000001):\n",
        "    total += i\n",
        "\n",
        "end_time = time.time()\n",
        "\n",
        "time_taken = end_time - start_time\n",
        "print(f\"Time taken by the program: {time_taken:.6f} seconds\")"
      ],
      "metadata": {
        "colab": {
          "base_uri": "https://localhost:8080/"
        },
        "id": "B3JBulWJD6UJ",
        "outputId": "609f8ce4-d979-4fcb-c83b-d2b4bf85e71c"
      },
      "execution_count": 6,
      "outputs": [
        {
          "output_type": "stream",
          "name": "stdout",
          "text": [
            "Time taken by the program: 0.129606 seconds\n"
          ]
        }
      ]
    },
    {
      "cell_type": "markdown",
      "source": [
        "---\n",
        "### **Q12. WAP to sort following number of elements in a list, calculate time taken and plot the graph.**\n",
        "---\n"
      ],
      "metadata": {
        "id": "oC4I9RNyugc0"
      }
    },
    {
      "cell_type": "code",
      "source": [
        "import random\n",
        "import time\n",
        "import matplotlib.pyplot as plt\n",
        "\n",
        "list_sizes = [5000, 10000, 15000, 20000, 25000]\n",
        "times = []\n",
        "\n",
        "for size in list_sizes:\n",
        "    nums = [random.randint(1, 100000) for _ in range(size)]\n",
        "    start_time = time.time()\n",
        "    sorted_nums = sorted(nums)\n",
        "    end_time = time.time()\n",
        "    duration = end_time - start_time\n",
        "    times.append(duration)\n",
        "    print(f\"Sorted {size} elements in {duration:.6f} seconds\")\n",
        "\n",
        "plt.plot(list_sizes, times, marker='o', color='blue', linestyle='--')\n",
        "plt.title(\"List Size vs Sort Time\")\n",
        "plt.xlabel(\"Number of Elements in List\")\n",
        "plt.ylabel(\"Time Taken (seconds)\")\n",
        "plt.grid(True)\n",
        "plt.show()"
      ],
      "metadata": {
        "colab": {
          "base_uri": "https://localhost:8080/",
          "height": 559
        },
        "id": "dRQt81Kzvq6V",
        "outputId": "e179f681-8f07-42f6-9041-11dea4225d15"
      },
      "execution_count": 7,
      "outputs": [
        {
          "output_type": "stream",
          "name": "stdout",
          "text": [
            "Sorted 5000 elements in 0.001144 seconds\n",
            "Sorted 10000 elements in 0.001850 seconds\n",
            "Sorted 15000 elements in 0.003458 seconds\n",
            "Sorted 20000 elements in 0.004902 seconds\n",
            "Sorted 25000 elements in 0.005448 seconds\n"
          ]
        },
        {
          "output_type": "display_data",
          "data": {
            "text/plain": [
              "<Figure size 640x480 with 1 Axes>"
            ],
            "image/png": "[encoded data removed]"
          },
          "metadata": {}
        }
      ]
    },
    {
      "cell_type": "markdown",
      "source": [
        "---\n",
        "### **Q13. WAP to create a dictionary of student marks in five subjects and you have to find the student having maximum and minimum average marks.**\n",
        " ---"
      ],
      "metadata": {
        "id": "s2YIk7Nbw0Sm"
      }
    },
    {
      "cell_type": "code",
      "source": [
        "students = {\n",
        "    \"Alice\": [88, 76, 90, 85, 93],\n",
        "    \"Bob\": [70, 68, 72, 65, 60],\n",
        "    \"Charlie\": [95, 98, 92, 94, 96],\n",
        "    \"David\": [55, 60, 58, 57, 59],\n",
        "    \"Eva\": [80, 85, 82, 88, 84]\n",
        "}\n",
        "\n",
        "averages = {}\n",
        "\n",
        "for name, marks in students.items():\n",
        "    avg = sum(marks) / len(marks)\n",
        "    averages[name] = avg\n",
        "\n",
        "max_student = max(averages, key=averages.get)\n",
        "min_student = min(averages, key=averages.get)\n",
        "\n",
        "print(f\"Student with maximum average marks: {max_student} ({averages[max_student]:.2f})\")\n",
        "print(f\"Student with minimum average marks: {min_student} ({averages[min_student]:.2f})\")"
      ],
      "metadata": {
        "colab": {
          "base_uri": "https://localhost:8080/"
        },
        "id": "PRwcJAyZw07u",
        "outputId": "30194a31-9eef-48aa-eeb2-cdba7a3f1c33"
      },
      "execution_count": 8,
      "outputs": [
        {
          "output_type": "stream",
          "name": "stdout",
          "text": [
            "Student with maximum average marks: Charlie (95.00)\n",
            "Student with minimum average marks: David (57.80)\n"
          ]
        }
      ]
    }
  ]
}